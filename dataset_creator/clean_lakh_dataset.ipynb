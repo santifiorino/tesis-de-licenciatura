{
 "cells": [
  {
   "cell_type": "markdown",
   "metadata": {},
   "source": [
    "# MIDI files and metadata\n",
    "\n",
    "We will be working with the [Clean MIDI subset](https://colinraffel.com/projects/lmd/#get) from The Lakh MIDI Dataset v0.1. Download it and place the `clean_midi` folder in this directory. This dataset contains 2,200 directories, each named after an artist. Every directory contains a collection of `.mid` files named after the songs. The MIDI files include multiple tracks for various instruments, with a total of 17,257 MIDI files.\n",
    "\n",
    "We won't be working with the raw dataset directly. For this project, we'll need to clean it up by removing duplicates and corrupt MIDI files, and then extend it with some metadata from LastFM and Spotify."
   ]
  },
  {
   "cell_type": "code",
   "execution_count": null,
   "metadata": {},
   "outputs": [],
   "source": [
    "import os\n",
    "import re\n",
    "import json\n",
    "import pretty_midi\n",
    "# LastFM metadata\n",
    "import pylast\n",
    "# Spotify metadata\n",
    "import spotipy\n",
    "from spotipy.oauth2 import SpotifyClientCredentials"
   ]
  },
  {
   "cell_type": "code",
   "execution_count": null,
   "metadata": {},
   "outputs": [],
   "source": [
    "os.remove('clean_midi/err.txt')\n",
    "os.remove('clean_midi/out.txt')"
   ]
  },
  {
   "cell_type": "markdown",
   "metadata": {},
   "source": [
    "## 1. Removing Duplicates\n",
    "Many songs have two or more different MIDI files. We want to keep only one so at rendering time each song has the same probability of being selected, ensuring that the dataset doesn't contain multiple repetitions of the same song. Fortunately, the duplicated MIDI files usually end with \".1\", \".2\", ..., \".n\", making them easy to identify.\n",
    "\n",
    "However, some songs have two different files with different capitalization. In this case, the duplicate doesn't end with \".i\" because the system doesn't recognize it as a duplicate, for example, \"Here comes the sun.mid\" and \"Here Comes the Sun.mid\" refer to the same song but none of them ends with \".i\". To handle these cases as well, we first convert all the MIDI file names to lowercase."
   ]
  },
  {
   "cell_type": "code",
   "execution_count": null,
   "metadata": {},
   "outputs": [],
   "source": [
    "for artist in os.listdir('clean_midi'):\n",
    "    songs = os.listdir(f'clean_midi/{artist}')\n",
    "    for song in songs:\n",
    "        os.rename(f'clean_midi/{artist}/{song}', f'clean_midi/{artist}/{song.lower()}')"
   ]
  },
  {
   "cell_type": "markdown",
   "metadata": {},
   "source": [
    "Next, we actually delete the duplicates. First, we search for \".i\" in the file names. If we find one, we compare whether the original version or the i-th version has more instruments in the MIDI file. If the original has more, we delete the i-th version; otherwise, we replace the original with the i-th version."
   ]
  },
  {
   "cell_type": "code",
   "execution_count": null,
   "metadata": {},
   "outputs": [],
   "source": [
    "for artist in os.listdir('clean_midi'):\n",
    "    songs = os.listdir(f'clean_midi/{artist}')\n",
    "    for song in songs:\n",
    "        if re.search(r'\\.\\d', song) is not None:\n",
    "            duplicated_path = f'clean_midi/{artist}/{song}'\n",
    "            original_name = '.'.join(song.split('.')[:-2])\n",
    "            original_path = f'clean_midi/{artist}/{original_name}.mid'\n",
    "            if os.path.isfile(original_path):\n",
    "                try:\n",
    "                    original_midi = pretty_midi.PrettyMIDI(original_path)\n",
    "                except:\n",
    "                    os.remove(original_path)\n",
    "                    os.rename(duplicated_path, original_path)\n",
    "                    continue\n",
    "                try:\n",
    "                    duplicated_midi = pretty_midi.PrettyMIDI(duplicated_path)\n",
    "                except:\n",
    "                    os.remove(duplicated_path)\n",
    "                    continue\n",
    "                if len(original_midi.instruments) >= len(duplicated_midi.instruments):\n",
    "                    os.remove(duplicated_path)\n",
    "                else:\n",
    "                    os.remove(original_path)\n",
    "                    os.rename(duplicated_path, original_path)"
   ]
  },
  {
   "cell_type": "markdown",
   "metadata": {},
   "source": [
    "This process removed 6,901 duplicate MIDI files."
   ]
  },
  {
   "cell_type": "markdown",
   "metadata": {},
   "source": [
    "## Getting the metadata"
   ]
  },
  {
   "cell_type": "markdown",
   "metadata": {},
   "source": [
    "### LastFM metadata\n",
    "\n",
    "Using the LastFM API, we will search for each MIDI file in the database. If we find a match, we will save a `.json` file with the same name as the MIDI file including the song's name, artist, and most importantly, the LastFM tags. These tags will be crucial later on as they contain descriptive data, such as the emotional tone of the song, that would be impossible to derive from the `.mid` file or its future `.wav` rendering alone. Tags often include words like \"melancholic\", \"warm\", or \"gentle\", which users assign to songs. This metadata (along with other information we'll cover later) will be used to generate prompts using a large language model (LLM) to accurately describe the sound."
   ]
  },
  {
   "cell_type": "code",
   "execution_count": null,
   "metadata": {},
   "outputs": [],
   "source": [
    "LASTFM_API_KEY = \"LASTFM_API_KEY\"\n",
    "LASTFM_API_SECRET = \"LASTFM_API_SECRET\"\n",
    "LASTFM_USERNAME = \"LASTFM_USERNAME\"\n",
    "LASTFM_PASSWORD = \"LASTFM_PASSWORD\""
   ]
  },
  {
   "cell_type": "code",
   "execution_count": null,
   "metadata": {},
   "outputs": [],
   "source": [
    "network = pylast.LastFMNetwork(\n",
    "    api_key=LASTFM_API_KEY,\n",
    "    api_secret=LASTFM_API_SECRET,\n",
    "    username=LASTFM_USERNAME,\n",
    "    password_hash=pylast.md5(LASTFM_PASSWORD),\n",
    ")"
   ]
  },
  {
   "cell_type": "code",
   "execution_count": null,
   "metadata": {},
   "outputs": [],
   "source": [
    "for artist in os.listdir('clean_midi'):\n",
    "    songs = os.listdir(f'clean_midi/{artist}')\n",
    "    for song in songs:\n",
    "        matched_search = network.search_for_track(artist, song[:-4])\n",
    "        if int(matched_search.get_total_result_count()) == 0:\n",
    "            os.remove(f'clean_midi/{artist}/{song}')\n",
    "            continue\n",
    "        best_match = matched_search.get_next_page()[0]\n",
    "        tags = best_match.get_top_tags()\n",
    "        data = {\n",
    "            \"Song\": best_match.get_name(),\n",
    "            \"Artist\": best_match.get_artist().get_name(),\n",
    "            \"Tags\": [tag.item.get_name() for tag in tags]\n",
    "        }\n",
    "        with open(f'clean_midi/{artist}/{song[:-4]}.json', 'w') as json_file:\n",
    "            json.dump(data, json_file)"
   ]
  },
  {
   "cell_type": "markdown",
   "metadata": {},
   "source": [
    "This process removed 1,148 MIDI files (those not found in LastFM's database)."
   ]
  },
  {
   "cell_type": "markdown",
   "metadata": {},
   "source": [
    "### Spotify metadata\n",
    "\n",
    "Spotify provides additional metadata that is highly useful for this dataset. First, it offers general musical information such as key, mode, and tempo (e.g., \"A Major, 129 BPM\"). Additionally, Spotify provides descriptive parameters like \"acousticness\", \"danceability\", and \"energy\". Another crucial piece of metadata is the track's sections. Spotify defines sections as \"large variations in rhythm or timbre, e.g., chorus, verse, bridge, guitar solo, etc.\" Each section includes its own descriptions of tempo, key, mode, time signature, and loudness.\n",
    "\n",
    "This is particularly interesting for our project because rendering the entire song into a single `.wav` file typically results in 2 to 4-minute-long files, but for our model, we want shorter audio clips. This means we need to cut the `.wav` files, but doing so every N seconds could lead to abrupt cuts or starting a clip in the middle of a musical phrase. The section data is ideal for our use case, allowing us to cut the audio into smaller, coherent pieces. Sections are typically 10-30 seconds long, which aligns with our requirements."
   ]
  },
  {
   "cell_type": "code",
   "execution_count": null,
   "metadata": {},
   "outputs": [],
   "source": [
    "SPOTIFY_API_KEY = \"SPOTIFY_API_KEY\"\n",
    "SPOTIFY_API_SECRET = \"SPOTIFY_API_SECRET\""
   ]
  },
  {
   "cell_type": "code",
   "execution_count": null,
   "metadata": {},
   "outputs": [],
   "source": [
    "auth_manager = SpotifyClientCredentials(client_id=SPOTIFY_API_KEY, client_secret=SPOTIFY_API_SECRET)\n",
    "sp = spotipy.Spotify(auth_manager=auth_manager)"
   ]
  },
  {
   "cell_type": "code",
   "execution_count": null,
   "metadata": {},
   "outputs": [],
   "source": [
    "key_dict = {\n",
    "    -1: '', 0: 'C', 1: 'C#', 2: 'D', 3: 'D#', 4: 'E', 5: 'F', 6: 'F#', 7: 'G', 8: 'G#', 9: 'A', 10: 'A#', 11: 'B'\n",
    "}\n",
    "\n",
    "mode_dict = {\n",
    "    0: 'Minor', 1: 'Major'\n",
    "}"
   ]
  },
  {
   "cell_type": "code",
   "execution_count": null,
   "metadata": {},
   "outputs": [],
   "source": [
    "for artist in os.listdir('clean_midi'):\n",
    "    songs = os.listdir(f'clean_midi/{artist}')\n",
    "    songs = [ song for song in songs if song.endswith(\".mid\") ]\n",
    "    for song in songs:\n",
    "        metadata = open(f'clean_midi/{artist}/{song[:-4]}.json', encoding='utf-8')\n",
    "        metadata = json.load(metadata)\n",
    "\n",
    "        search_result = sp.search(metadata['Artist'] + \" \" + metadata['Song'], limit=1, type='track')\n",
    "        if len(search_result['tracks']['items']) == 0:\n",
    "            os.remove(f'clean_midi/{artist}/{song}')\n",
    "            os.remove(f'clean_midi/{artist}/{song[:-4]}.json')\n",
    "            continue\n",
    "\n",
    "        track_id = search_result['tracks']['items'][0]['id']\n",
    "        spotify_features = sp.audio_features([track_id])[0]\n",
    "        metadata.update({\n",
    "            \"duration_ms\":  spotify_features[\"duration_ms\"],\n",
    "            \"acousticness\": spotify_features[\"acousticness\"],\n",
    "            #\"danceability\": spotify_features[\"danceability\"],\n",
    "            \"energy\": spotify_features[\"energy\"],\n",
    "        })\n",
    "\n",
    "        spotify_analysis = sp.audio_analysis(track_id)\n",
    "        metadata.update({\n",
    "            \"key\": key_dict[spotify_analysis[\"track\"][\"key\"]],\n",
    "            \"mode\": mode_dict[spotify_analysis[\"track\"][\"mode\"]],\n",
    "            \"tempo\": spotify_analysis[\"track\"][\"tempo\"],\n",
    "            \"sections\": spotify_analysis[\"sections\"]\n",
    "        })\n",
    "        \n",
    "        with open(f'clean_midi/{artist}/{song[:-4]}.json', 'w') as json_file:\n",
    "            json.dump(metadata, json_file)"
   ]
  },
  {
   "cell_type": "markdown",
   "metadata": {},
   "source": [
    "This process removed 32 MIDI files (those not found in Spotify's database)."
   ]
  },
  {
   "cell_type": "markdown",
   "metadata": {},
   "source": [
    "### Splitting the MIDI files\n",
    "\n",
    "As I mentioned at the beginning, the MIDI files contain several tracks that are meant to be played with different instruments, according to the program, which is essentially an instrument code. [Here you can see the map of codes to instruments.](https://www.ccarh.org/courses/253/handout/gminstruments/). Since we want to synthesize each instrument separately, potentially with a different VST, it's useful to have a separate MIDI file for each instrument. Therefore, we're going to split the MIDI files into multiple files, one for each instrument.\n",
    "\n",
    "We will also remove any MIDI files that `pretty_midi` is unable to open, as they are likely corrupt or broken."
   ]
  },
  {
   "cell_type": "code",
   "execution_count": null,
   "metadata": {},
   "outputs": [],
   "source": [
    "for artist in os.listdir('clean_midi'):\n",
    "    songs = os.listdir(f'clean_midi/{artist}')\n",
    "    songs = [ song for song in songs if song.endswith(\".mid\") ]\n",
    "    for song in songs:\n",
    "        print(artist, song)\n",
    "        try:\n",
    "            midi_data = pretty_midi.PrettyMIDI(f'clean_midi/{artist}/{song}')\n",
    "        except:\n",
    "            os.remove(f'clean_midi/{artist}/{song}')\n",
    "            os.remove(f'clean_midi/{artist}/{song[:-4]}.json')\n",
    "            continue\n",
    "        os.mkdir(f'clean_midi/{artist}/{song[:-4]}')\n",
    "        for instrument in midi_data.instruments:\n",
    "            new_midi = pretty_midi.PrettyMIDI()\n",
    "            new_midi.instruments.append(instrument)\n",
    "            instrument_name = instrument.name\n",
    "            for char in [\"_\", \"/\", \":\", \"*\", '\"', \">\", \"<\", \"|\", \"?\", \"'\", \"\\x00\", \"\\x0b\", \"\\t\", \"\\x12\", '\\\\']:\n",
    "                instrument_name = instrument_name.replace(char, \"\")\n",
    "            instrument_name = instrument_name.rstrip()\n",
    "            new_midi.write(f'clean_midi/{artist}/{song[:-4]}/{instrument.program}_{1 if instrument.is_drum else 0}_{instrument_name}.mid')\n",
    "        os.remove(f'clean_midi/{artist}/{song}')"
   ]
  },
  {
   "cell_type": "markdown",
   "metadata": {},
   "source": [
    "This process removed 101 MIDI files (those that PrettyMIDI couldn't open, likely corrupted files)."
   ]
  },
  {
   "cell_type": "markdown",
   "metadata": {},
   "source": [
    "Since we’ve been removing various MIDI files throughout the notebook and some artists only had one MIDI track, we’ve left some empty directories, which we will now remove."
   ]
  },
  {
   "cell_type": "code",
   "execution_count": null,
   "metadata": {},
   "outputs": [],
   "source": [
    "for artist in os.listdir('clean_midi'):\n",
    "    if len(os.listdir(f'clean_midi/{artist}')) == 0:\n",
    "        os.rmdir(f'clean_midi/{artist}')"
   ]
  },
  {
   "cell_type": "markdown",
   "metadata": {},
   "source": [
    "We started with 17,257 MIDI files, each mapping to a song (including duplicates), with each file containing combined tracks. We ended up with a total of 9,075 unique songs, 8,182 fewer than the original dataset due to the removal of duplicates and corrupt files. Now, all the `midi` files are valid and separated by instrument. Additionally, we have a `.json`  file for each song that looks like this: \n",
    "\n",
    "```json\n",
    "{\n",
    "  \"Song\": \"Here Comes The Sun - Remastered 2009\",\n",
    "  \"Artist\": \"The Beatles\",\n",
    "  \"Tags\": [\n",
    "    \"sunshine pop\",\n",
    "    \"rock\",\n",
    "    \"60s\",\n",
    "    ...\n",
    "  ],\n",
    "  \"duration_ms\": 185733,\n",
    "  \"acousticness\": 0.0339,\n",
    "  \"energy\": 0.54,\n",
    "  \"key\": \"A\",\n",
    "  \"mode\": \"Major\",\n",
    "  \"tempo\": 129.177,\n",
    "  \"sections\": [\n",
    "    {\n",
    "      \"start\": 0.0,\n",
    "      \"duration\": 16.22566,\n",
    "      \"confidence\": 1.0,\n",
    "      \"loudness\": -23.088,\n",
    "      \"tempo\": 129.83,\n",
    "      \"tempo_confidence\": 0.518,\n",
    "      \"key\": 9,\n",
    "      \"key_confidence\": 0.797,\n",
    "      \"mode\": 1,\n",
    "      \"mode_confidence\": 0.713,\n",
    "      \"time_signature\": 3,\n",
    "      \"time_signature_confidence\": 0.625\n",
    "    },\n",
    "    ...\n",
    "  ]\n",
    "}\n",
    "```"
   ]
  }
 ],
 "metadata": {
  "kernelspec": {
   "display_name": "Python 3",
   "language": "python",
   "name": "python3"
  },
  "language_info": {
   "codemirror_mode": {
    "name": "ipython",
    "version": 3
   },
   "file_extension": ".py",
   "mimetype": "text/x-python",
   "name": "python",
   "nbconvert_exporter": "python",
   "pygments_lexer": "ipython3",
   "version": "3.12.4"
  }
 },
 "nbformat": 4,
 "nbformat_minor": 2
}
