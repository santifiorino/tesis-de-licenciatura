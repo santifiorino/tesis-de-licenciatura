{
 "cells": [
  {
   "cell_type": "code",
   "execution_count": 1,
   "metadata": {},
   "outputs": [],
   "source": [
    "import os\n",
    "import json\n",
    "from langchain_ollama import ChatOllama"
   ]
  },
  {
   "cell_type": "code",
   "execution_count": 9,
   "metadata": {},
   "outputs": [],
   "source": [
    "llm = ChatOllama(\n",
    "    model=\"llama3.1\",\n",
    "    temperature=0.5,\n",
    "    # other params...\n",
    ")"
   ]
  },
  {
   "cell_type": "code",
   "execution_count": null,
   "metadata": {},
   "outputs": [],
   "source": [
    "# TODO: add few shot examples and implement it\n",
    "# https://python.langchain.com/v0.1/docs/modules/model_io/prompts/few_shot_examples/\n",
    "examples = [\n",
    "    {\n",
    "        'question': '{\"song\": \"Embraced\", \"artist\": \"Paul Cardall\", \"instrument\": \"Organ\", \"genre\": \"Christian Relaxative\", \"tempo\": 60, \"key\": \"C#\", \"mode\": \"Major\", \"energy\": 0.0398, \"danceability\": 0.346, \"pedals\": [{\"name\": \"Phaser\", \"rate_hz\": 7.584981514363318, \"depth\": 0.04263510728352049, \"centre_frequency_hz\": 698.3204252362798}]}',\n",
    "        'answer': 'Mellow Christian organ music in C# major at 60 BPM with subtle phaser effect'\n",
    "    }\n",
    "]"
   ]
  },
  {
   "cell_type": "code",
   "execution_count": null,
   "metadata": {},
   "outputs": [],
   "source": [
    "jsons = [f for f in os.listdir('renders') if f.endswith('.json')]\n",
    "for json_file in jsons:\n",
    "    f = open(f'renders/{json_file}', encoding='utf-8')\n",
    "    data = json.load(f)\n",
    "    messages = [\n",
    "    (\n",
    "        \"system\",\n",
    "        \"You are a helpful assistant that turns a .json file into a human-written-like prompt for a music generation AI model. The prompt should be as short as possible and very straightforward. It should be a description of the desired sound, not a petition, so avoid verbs. Reply only with the prompt, no extra text or quotes. Ignore song title and artist unless they're extremely popular. State the exact tempo (BPM)\",\n",
    "    ),\n",
    "    (\n",
    "        \"human\",\n",
    "        str(data)\n",
    "    )\n",
    "    ]\n",
    "    ai_msg = llm.invoke(messages)\n",
    "    print(ai_msg.content)\n",
    "    # Add prompt to .json\n",
    "    # data['prompt'] = ai_msg.content\n",
    "    # with open(f'renders/{json_file}', 'w') as json_file:\n",
    "    #     json.dump(data, json_file)\n"
   ]
  }
 ],
 "metadata": {
  "kernelspec": {
   "display_name": "tesis",
   "language": "python",
   "name": "python3"
  },
  "language_info": {
   "codemirror_mode": {
    "name": "ipython",
    "version": 3
   },
   "file_extension": ".py",
   "mimetype": "text/x-python",
   "name": "python",
   "nbconvert_exporter": "python",
   "pygments_lexer": "ipython3",
   "version": "3.12.4"
  }
 },
 "nbformat": 4,
 "nbformat_minor": 2
}
