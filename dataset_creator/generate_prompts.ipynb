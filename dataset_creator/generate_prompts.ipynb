{
 "cells": [
  {
   "cell_type": "code",
   "execution_count": null,
   "metadata": {},
   "outputs": [],
   "source": [
    "import os\n",
    "import json\n",
    "from langchain_ollama import ChatOllama\n",
    "from langchain_core.prompts import (\n",
    "    ChatPromptTemplate,\n",
    "    FewShotChatMessagePromptTemplate,\n",
    ")"
   ]
  },
  {
   "cell_type": "code",
   "execution_count": null,
   "metadata": {},
   "outputs": [],
   "source": [
    "llm = ChatOllama(\n",
    "    model=\"llama3.1\",\n",
    "    temperature=0.5\n",
    ")"
   ]
  },
  {
   "cell_type": "code",
   "execution_count": null,
   "metadata": {},
   "outputs": [],
   "source": [
    "examples = [\n",
    "    {\n",
    "        'input': '{\"song\": \"Embraced\", \"artist\": \"Paul Cardall\", \"instrument\": \"Organ\", \"genre\": \"Christian Relaxative\", \"tempo\": 60, \"key\": \"C#\", \"mode\": \"Major\", \"energy\": 0.0398, \"danceability\": 0.346, \"pedals\": [{\"name\": \"Phaser\", \"rate_hz\": 7.584981514363318, \"depth\": 0.04263510728352049, \"centre_frequency_hz\": 698.3204252362798}]}',\n",
    "        'output': 'Mellow Christian organ music in C# major at 60 BPM with subtle phaser effect'\n",
    "    },\n",
    "    {\n",
    "        'input': '{\"song\": \"Get Here\", \"artist\": \"Miss Money\", \"instrument\": \"Synth Bass\", \"genre\": \"Pittsburgh Rap\", \"tempo\": 169, \"key\": \"F#\", \"mode\": \"Minor\", \"energy\": 0.734, \"danceability\": 0.537, \"pedals\": []}',\n",
    "        'output': 'Dark synth bass in F# minor, 169 BPM, Pittsburgh rap style'\n",
    "    },\n",
    "    {\n",
    "        'input': '{\"song\": \"Gathered in the Love of Christ Canon in D\", \"artist\": \"Marty Haugen\", \"instrument\": \"Flute\", \"genre\": \"Rosary\", \"tempo\": 74, \"key\": \"D\", \"mode\": \"Major\", \"energy\": 0.175, \"danceability\": 0.308, \"pedals\": [{\"name\": \"Bitcrush\", \"bit_depth\": 16}]}',\n",
    "        'output': 'Soft flute in D Major at 74 BPM, calm and meditative.'\n",
    "    },\n",
    "    {\n",
    "        'input': '{\"song\": \"Ojitos Verdes\", \"artist\": \"Los Llaneros De La Frontera\", \"instrument\": \"Rhodes\", \"genre\": \"Cumbia Chilena\", \"tempo\": 0, \"key\": \"D\", \"mode\": \"Major\", \"energy\": 0.595, \"danceability\": 0.679, \"pedals\": [{\"name\": \"Reverb\", \"room_size\": 0.44167416619327415, \"damping\": 0.19601038763397205, \"wet_level\": 0.3973790416467937, \"dry_level\": 0.5251665135025636, \"width\": 0.1881927763697252, \"freeze_mode\": 0.9361007644381942}]}',\n",
    "        'output': 'Warm Cumbia Chilena in D Major, slow Rhodes with soft reverb'\n",
    "    },\n",
    "    {\n",
    "        'input': '{\"song\": \"Dance With Me (LP Version)\", \"artist\": \"Debelah Morgan\", \"instrument\": \"House Piano\", \"genre\": \"Urban Contemporary\", \"tempo\": 115, \"key\": \"G\", \"mode\": \"Minor\", \"energy\": 0.674, \"danceability\": 0.85, \"pedals\": [{\"name\": \"Bitcrush\", \"bit_depth\": 8}]}',\n",
    "        'output': 'Upbeat urban music in G minor at 115 BPM, danceable rhythm played on a house piano with bitcrushed tone'\n",
    "    },\n",
    "    {\n",
    "        'input': '{\"song\": \"Fugue In D Minor (JS Bach)\", \"artist\": \"Lennie Tristano\", \"instrument\": \"Synth Bass\", \"genre\": \"Avant-Garde Jazz\", \"tempo\": 138, \"key\": \"E\", \"mode\": \"Minor\", \"energy\": 0.219, \"danceability\": 0.312, \"pedals\": [{\"name\": \"Reverb\", \"room_size\": 0.6817294461011679, \"damping\": 0.9966620555007254, \"wet_level\": 0.08364639607054147, \"dry_level\": 0.6124006810402303, \"width\": 0.29436509303463365, \"freeze_mode\": 0.8632431158049467}, {\"name\": \"Chorus\", \"rate_hz\": 3.1957353827956827, \"depth\": 0.09619190337556893, \"centre_delay_ms\": 31.7703901938211}]}',\n",
    "        'output': 'Deep, atmospheric jazz synth bass in E minor, 138 BPM, with heavy reverb and subtle chorus effect'\n",
    "    },\n",
    "    {\n",
    "        'input': '{\"song\": \"Love-Hate Mashup Mix 7\", \"artist\": \"DJ Godfather\", \"instrument\": \"Electric Piano\", \"genre\": \"Ghettotech\", \"tempo\": 112, \"key\": \"E\", \"mode\": \"Major\", \"energy\": 0.73, \"danceability\": 0.7, \"pedals\": [{\"name\": \"Distortion\", \"drive_db\": 10}]}',\n",
    "        'output': 'Fast energetic E Major Ghettotech with electric piano and heavy distortion'\n",
    "    }\n",
    "]"
   ]
  },
  {
   "cell_type": "code",
   "execution_count": null,
   "metadata": {},
   "outputs": [],
   "source": [
    "example_prompt = ChatPromptTemplate.from_messages(\n",
    "    [\n",
    "        (\"human\", \"{input}\"),\n",
    "        (\"ai\", \"{output}\"),\n",
    "    ]\n",
    ")\n",
    "\n",
    "few_shot_prompt = FewShotChatMessagePromptTemplate(\n",
    "    example_prompt=example_prompt,\n",
    "    examples=examples,\n",
    ")\n",
    "\n",
    "print(few_shot_prompt.format())"
   ]
  },
  {
   "cell_type": "code",
   "execution_count": null,
   "metadata": {},
   "outputs": [],
   "source": [
    "final_prompt = ChatPromptTemplate.from_messages(\n",
    "    [\n",
    "        (\"system\", \"You are a helpful assistant that turns a .json file into a human-written-like prompt for a music generation AI model. The prompt should be as short as possible and very straightforward. It should be a description of the desired sound, not a petition, so avoid verbs. Reply only with the prompt, no extra text or quotes. Ignore song title and artist unless they're extremely popular. State the exact tempo (BPM)\"),\n",
    "        few_shot_prompt,\n",
    "        (\"human\", \"{input}\"),\n",
    "    ]\n",
    ")"
   ]
  },
  {
   "cell_type": "code",
   "execution_count": null,
   "metadata": {},
   "outputs": [],
   "source": [
    "chain = final_prompt | llm"
   ]
  },
  {
   "cell_type": "code",
   "execution_count": null,
   "metadata": {},
   "outputs": [],
   "source": [
    "ai_msg = chain.invoke({\"input\": '{\"song\": \"Rising\", \"artist\": \"EN VOICE\", \"instrument\": \"Synth Bass\", \"genre\": \"Children\\'S Choir\", \"tempo\": 97, \"key\": \"F#\", \"mode\": \"Minor\", \"energy\": 0.406, \"danceability\": 0.484, \"pedals\": []}'})\n",
    "print(ai_msg.content)"
   ]
  },
  {
   "cell_type": "code",
   "execution_count": null,
   "metadata": {},
   "outputs": [],
   "source": [
    "jsons = [f for f in os.listdir('renders') if f.endswith('.json')]\n",
    "for json_file in jsons:\n",
    "    f = open(f'renders/{json_file}', encoding='utf-8')\n",
    "    data = json.load(f)\n",
    "    ai_msg = chain.invoke({\"input\": str(data)})\n",
    "    print(json_file, ai_msg.content)\n",
    "    # Add prompt to .json\n",
    "    # data['prompt'] = ai_msg.content\n",
    "    # with open(f'renders/{json_file}', 'w') as json_file:\n",
    "    #     json.dump(data, json_file)\n"
   ]
  }
 ],
 "metadata": {
  "kernelspec": {
   "display_name": "tesis",
   "language": "python",
   "name": "python3"
  },
  "language_info": {
   "codemirror_mode": {
    "name": "ipython",
    "version": 3
   },
   "file_extension": ".py",
   "mimetype": "text/x-python",
   "name": "python",
   "nbconvert_exporter": "python",
   "pygments_lexer": "ipython3",
   "version": "3.12.4"
  }
 },
 "nbformat": 4,
 "nbformat_minor": 2
}
