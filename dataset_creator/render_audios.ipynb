{
 "cells": [
  {
   "cell_type": "code",
   "execution_count": null,
   "metadata": {},
   "outputs": [],
   "source": [
    "import spotipy\n",
    "from spotipy.oauth2 import SpotifyClientCredentials"
   ]
  },
  {
   "cell_type": "code",
   "execution_count": null,
   "metadata": {},
   "outputs": [],
   "source": [
    "client_id = 'CLIENT_ID'\n",
    "client_secret = 'CLIENT_SECRET'\n",
    "auth_manager = SpotifyClientCredentials(client_id=client_id, client_secret=client_secret)\n",
    "sp = spotipy.Spotify(auth_manager=auth_manager)"
   ]
  },
  {
   "cell_type": "code",
   "execution_count": null,
   "metadata": {},
   "outputs": [],
   "source": [
    "import os\n",
    "import random\n",
    "from midi2audio import FluidSynth\n",
    "from pydub import AudioSegment\n",
    "import json"
   ]
  },
  {
   "cell_type": "code",
   "execution_count": null,
   "metadata": {},
   "outputs": [],
   "source": [
    "genres = os.listdir(\"./MIDIs\")\n",
    "instruments = os.listdir(\"./instruments\")"
   ]
  },
  {
   "cell_type": "code",
   "execution_count": null,
   "metadata": {},
   "outputs": [],
   "source": [
    "key_dict = {\n",
    "    0: 'C', 1: 'C#',\n",
    "    2: 'D', 3: 'D#',\n",
    "    4: 'E',\n",
    "    5: 'F', 6: 'F#',\n",
    "    7: 'G', 8: 'G#',\n",
    "    9: 'A', 10: 'A#',\n",
    "    11: 'B'\n",
    "}\n",
    "\n",
    "mode_dict = {\n",
    "    0: 'Minor', 1: 'Major'\n",
    "}"
   ]
  },
  {
   "cell_type": "code",
   "execution_count": null,
   "metadata": {},
   "outputs": [],
   "source": [
    "os.makedirs('tmp', exist_ok=True)\n",
    "os.makedirs('renders', exist_ok=True)\n",
    "id = 0\n",
    "for _ in range(1):\n",
    "    # Pick song\n",
    "    general_genre = random.choice(genres)\n",
    "    specific_genre = random.choice(os.listdir(f\"./MIDIs/{general_genre}\"))\n",
    "    artist = random.choice(os.listdir(f\"./MIDIs/{general_genre}/{specific_genre}\"))\n",
    "    song = random.choice(os.listdir(f\"./MIDIs/{general_genre}/{specific_genre}/{artist}\"))\n",
    "\n",
    "    # Render MIDI\n",
    "    instrument = random.choice(instruments)\n",
    "    fs = FluidSynth(f'./instruments/{instrument}', sample_rate=44100)\n",
    "    fs.midi_to_audio(f'./MIDIs/{general_genre}/{specific_genre}/{artist}/{song}',\n",
    "                     './tmp/render.wav')\n",
    "\n",
    "    # Find it on Spotify\n",
    "    spotify_track = sp.search(artist + \" \" + song[:-4], limit=1, type='track')\n",
    "    if len(spotify_track['tracks']['items']) == 0: continue\n",
    "    track_id = spotify_track['tracks']['items'][0]['id']\n",
    "\n",
    "    # Get Spotify's metadata\n",
    "    spotify_analysis = sp.audio_analysis(track_id)\n",
    "    for section in spotify_analysis[\"sections\"]:\n",
    "        data = {\n",
    "            'instrument': instrument[:-4],\n",
    "            'genre': specific_genre,\n",
    "            'tempo': int(section['tempo']),\n",
    "            'key': key_dict[section['key']],\n",
    "            'mode': mode_dict[section['mode']],\n",
    "            'loudness': section['loudness']\n",
    "        }\n",
    "\n",
    "        # Cut section of rendered audio\n",
    "        audio = AudioSegment.from_wav('./tmp/render.wav')\n",
    "        start = section['start']*1000\n",
    "        end = section['start']*1000 + section['duration']*1000\n",
    "        cut_audio = audio[start:end]\n",
    "\n",
    "        # TODO: Add filters (wp eps)\n",
    "        \n",
    "        # Save section and metadata\n",
    "        cut_audio.export(f'./renders/{id}.wav', format='wav')\n",
    "        with open(f'./renders/{id}.json', 'w') as json_file:\n",
    "            json.dump(data, json_file)\n",
    "        id += 1\n",
    "    os.remove(f'./tmp/render.wav')\n",
    "os.rmdir('tmp')"
   ]
  }
 ],
 "metadata": {
  "kernelspec": {
   "display_name": "tesis",
   "language": "python",
   "name": "python3"
  },
  "language_info": {
   "codemirror_mode": {
    "name": "ipython",
    "version": 3
   },
   "file_extension": ".py",
   "mimetype": "text/x-python",
   "name": "python",
   "nbconvert_exporter": "python",
   "pygments_lexer": "ipython3",
   "version": "3.12.4"
  }
 },
 "nbformat": 4,
 "nbformat_minor": 2
}
